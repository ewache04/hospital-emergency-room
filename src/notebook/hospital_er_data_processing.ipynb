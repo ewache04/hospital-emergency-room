{
 "cells": [
  {
   "cell_type": "code",
   "execution_count": 3,
   "metadata": {},
   "outputs": [],
   "source": [
    "import pandas as pd\n",
    "import matplotlib.pyplot as plt\n",
    "import seaborn as sns\n",
    "import numpy as np"
   ]
  },
  {
   "cell_type": "code",
   "execution_count": 4,
   "metadata": {},
   "outputs": [],
   "source": [
    "input_path = r\"C:\\Documents\\GitHubRepos\\hospital-emergency-room\\data\\raw\\Hospital ER_Data.csv\"\n",
    "cleaned_path = r\"C:\\Documents\\GitHubRepos\\hospital-emergency-room\\data\\cleaned\\Hospital_ER_Cleaned.csv\"\n",
    "load_path = r\"C:\\Documents\\GitHubRepos\\hospital-emergency-room\\data\\load\\Hospital_ER_Cleaned.csv\""
   ]
  },
  {
   "cell_type": "code",
   "execution_count": 5,
   "metadata": {},
   "outputs": [
    {
     "name": "stdout",
     "output_type": "stream",
     "text": [
      "Data loaded successfully.\n"
     ]
    }
   ],
   "source": [
    "# Load dataset\n",
    "try:\n",
    "    df = pd.read_csv(input_path)\n",
    "    print(\"Data loaded successfully.\")\n",
    "except FileNotFoundError:\n",
    "    print(f\"File not found: {input_path}\")\n"
   ]
  },
  {
   "cell_type": "code",
   "execution_count": 6,
   "metadata": {},
   "outputs": [
    {
     "name": "stdout",
     "output_type": "stream",
     "text": [
      "Columns with missing values:\n",
      "Index(['Department Referral', 'Patient Satisfaction Score'], dtype='object')\n",
      "\n",
      "Percentage of missing values:\n",
      "Patient Id                     0.000000\n",
      "Patient Admission Date         0.000000\n",
      "Patient First Inital           0.000000\n",
      "Patient Last Name              0.000000\n",
      "Patient Gender                 0.000000\n",
      "Patient Age                    0.000000\n",
      "Patient Race                   0.000000\n",
      "Department Referral           58.593750\n",
      "Patient Admission Flag         0.000000\n",
      "Patient Satisfaction Score    72.688802\n",
      "Patient Waittime               0.000000\n",
      "Patients CM                    0.000000\n",
      "dtype: float64\n"
     ]
    }
   ],
   "source": [
    "# Check if any missing values exist in the dataset\n",
    "missing_columns = df.columns[df.isnull().any()]\n",
    "\n",
    "# Display columns with missing values\n",
    "print(\"Columns with missing values:\")\n",
    "print(missing_columns)\n",
    "\n",
    "# Percentage of missing values\n",
    "missing_percentage = (df.isnull().mean() * 100)\n",
    "print(\"\\nPercentage of missing values:\")\n",
    "print(missing_percentage)\n"
   ]
  },
  {
   "cell_type": "code",
   "execution_count": 7,
   "metadata": {},
   "outputs": [
    {
     "name": "stdout",
     "output_type": "stream",
     "text": [
      "Missing values after imputation:\n",
      "Patient Id                    0\n",
      "Patient Admission Date        0\n",
      "Patient First Inital          0\n",
      "Patient Last Name             0\n",
      "Patient Gender                0\n",
      "Patient Age                   0\n",
      "Patient Race                  0\n",
      "Department Referral           0\n",
      "Patient Admission Flag        0\n",
      "Patient Satisfaction Score    0\n",
      "Patient Waittime              0\n",
      "Patients CM                   0\n",
      "dtype: int64\n"
     ]
    }
   ],
   "source": [
    "# Fill missing values with the mode (most frequent referral)\n",
    "df['Department Referral'] = df['Department Referral'].fillna(df['Department Referral'].mode()[0])\n",
    "\n",
    "# Fill missing values in 'Patient Satisfaction Score' with the mean\n",
    "df['Patient Satisfaction Score'] = df['Patient Satisfaction Score'].fillna(df['Patient Satisfaction Score'].mean())\n",
    "\n",
    "\n",
    "# Check if any missing values exist after imputation\n",
    "missing_values_after_imputation = df.isnull().sum()\n",
    "print(\"Missing values after imputation:\")\n",
    "print(missing_values_after_imputation)\n"
   ]
  },
  {
   "cell_type": "code",
   "execution_count": 8,
   "metadata": {},
   "outputs": [
    {
     "name": "stdout",
     "output_type": "stream",
     "text": [
      "Data types converted successfully.\n"
     ]
    }
   ],
   "source": [
    "# Try block to perform operations and handle any exceptions\n",
    "try:\n",
    "    # Convert 'Patient Admission Date' to datetime with dayfirst=True\n",
    "    df['Patient Admission Date'] = pd.to_datetime(df['Patient Admission Date'], dayfirst=True)\n",
    "\n",
    "    # Convert 'Patient Gender' to a categorical type\n",
    "    df['Patient Gender'] = df['Patient Gender'].astype('category')\n",
    "\n",
    "    # Convert 'Patient Race' to a categorical type\n",
    "    df['Patient Race'] = df['Patient Race'].astype('category')\n",
    "\n",
    "    # If no exceptions, print success message\n",
    "    print(\"Data types converted successfully.\")\n",
    "\n",
    "except Exception as e:\n",
    "    # If an exception occurs, print failure message along with the error\n",
    "    print(f\"Data type conversion failed: {e}\")\n"
   ]
  },
  {
   "cell_type": "code",
   "execution_count": 9,
   "metadata": {},
   "outputs": [
    {
     "name": "stdout",
     "output_type": "stream",
     "text": [
      "Age Group column created successfully.\n"
     ]
    }
   ],
   "source": [
    "# Try block to create the 'Age Group' column\n",
    "try:\n",
    "    # Create 'Age Group' based on 'Patient Age'\n",
    "    bins = [0, 18, 30, 45, 60, 100]\n",
    "    labels = ['0-18', '19-30', '31-45', '46-60', '60+']\n",
    "    df['Age Group'] = pd.cut(df['Patient Age'], bins=bins, labels=labels, right=False)\n",
    "\n",
    "    # If successful, print success message\n",
    "    print(\"Age Group column created successfully.\")\n",
    "\n",
    "except Exception as e:\n",
    "    # If an error occurs, print failure message with the error\n",
    "    print(f\"Failed to create Age Group column: {e}\")\n"
   ]
  },
  {
   "cell_type": "code",
   "execution_count": 10,
   "metadata": {},
   "outputs": [
    {
     "name": "stdout",
     "output_type": "stream",
     "text": [
      "Cleaned data saved to: C:\\Documents\\GitHubRepos\\hospital-emergency-room\\data\\cleaned\\Hospital_ER_Cleaned.csv\n",
      "Cleaned data saved to: C:\\Documents\\GitHubRepos\\hospital-emergency-room\\data\\load\\Hospital_ER_Cleaned.csv\n",
      "Cleaned data saved to: Index(['Patient Id', 'Patient Admission Date', 'Patient First Inital',\n",
      "       'Patient Last Name', 'Patient Gender', 'Patient Age', 'Patient Race',\n",
      "       'Department Referral', 'Patient Admission Flag',\n",
      "       'Patient Satisfaction Score', 'Patient Waittime', 'Patients CM',\n",
      "       'Age Group'],\n",
      "      dtype='object')\n"
     ]
    }
   ],
   "source": [
    "# Save cleaned data (overwrite old version)\n",
    "df.to_csv(cleaned_path, index=False)\n",
    "print(f\"Cleaned data saved to: {cleaned_path}\")\n",
    "\n",
    "# Load cleaned data (if needed to load again after saving)\n",
    "df.to_csv(load_path, index=False)\n",
    "print(f\"Cleaned data saved to: {load_path}\")\n",
    "\n",
    "print(f\"Cleaned data saved to: {df.columns}\")\n"
   ]
  }
 ],
 "metadata": {
  "kernelspec": {
   "display_name": "venv",
   "language": "python",
   "name": "python3"
  },
  "language_info": {
   "codemirror_mode": {
    "name": "ipython",
    "version": 3
   },
   "file_extension": ".py",
   "mimetype": "text/x-python",
   "name": "python",
   "nbconvert_exporter": "python",
   "pygments_lexer": "ipython3",
   "version": "3.13.0"
  }
 },
 "nbformat": 4,
 "nbformat_minor": 2
}
